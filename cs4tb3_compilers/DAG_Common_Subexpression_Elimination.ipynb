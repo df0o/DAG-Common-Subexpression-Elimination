{
 "cells": [
  {
   "cell_type": "markdown",
   "metadata": {},
   "source": [
    "# Animating Optimization - Using GraphvizAnim to Visualize DAG based Common Subexpression Elimination\n",
    "\n",
    "#### Maxim Vasiliev - 400043983\n",
    "#### Susie Yu - 0955758"
   ]
  },
  {
   "cell_type": "markdown",
   "metadata": {},
   "source": [
    "We first researched different methods of code optimization and assessed their adherence to the objectives of this report. Many techniques entail instruction level optimization which is primarily described by textual sequences of instructions comparing pre and post optimized code. While entirely relevant to compiler optimization, these techniques are hard to visualize using animation due to the fact that most optimizations are simply textual rewrites of the sequence of generated instructions. One optimization type however lends itself naturally to a graph based algorithmic and visual approach.\n",
    "\n",
    "Common subexpression elimination posits that encountered expressions need not be computed if an equivalent expression has been computed before. To this end, a Directed Acyclic Graph can be constructed based upon the sequence of instructions. If the expression has not been encountered, a node is created for that expression. Otherwise, if an equivalent expression has been encountered before, no node is created but instead the equivalent one is returned. \n",
    "\n",
    "We implemented our algorithm using a testing environment and language where we provided the sequence of strings to construct expressions. This approach serves to demonstrate the algorithm at hand, whereby one can construct a reduced DAG of instructions consisting of no duplicate subtrees. Our input is a sequence of assignment expressions of either the form “x = y op z” or “x = op y”. Each expression is then parsed and nodes are created and either linked to the rest of the growing DAG, or the expression is found to be equivalent to a previous one, and a referral is attached to the new node to indicate which node it is equivalent to. This referral is then used while building the graph to effectively eliminate the expression.\n",
    "\n",
    "Given an input such as “x = y + z”, the algorithm first checks if a node exists with the identifier “y’, if not a node is created with the label and identifier of “y”. The procedure occurs for “z”. Next the algorithm checks if a node exists with the label “+” whose left and right children are “y” and “z”. If the the node exists, it is updated to have  “x” as an additional identifier for that node, and the new node is given the index of this previous node it is equivalent to. Otherwise if the node does not exist, it is created with the label “+”, identifier “x”, left and right children “y” and “z”, and a referral to itself instead of any other node, indicating that it is the first node of that expression. Once the nodes are created logically, they are traversed to build the reduced DAG.\n",
    "\t\n",
    "In order to visualize the optimization algorithm we assessed a number of different python libraries on their ability to generate and animate graphs. Unfortunately, very few libraries exist which contain both feature sets. Some libraries such as Matplotlib, are best for generating animations of mathematical functions. Other full fledged libraries such as D3 were simply too complicated for our purpose. We settled on using GraphvizAnim, a tool which bootstraps the Graphviz library to allow snapshots of generated graphs at various points. Graphviz itself is a graph visualization package which is easy to use and contains all functionalities we needed. This combination allowed us to both generate the DAGs and animate them.\n",
    "\n",
    "The DAG is formed by creating nodes with indexes and labels, and then creating edges between 2 nodes based on provided indices. Node and edges can also highlighted to draw attention to the changes in the building of the graph. Calls to the library’s next_step() function tigger the current graph state to be saved, and causing all future changes to the graph to be included in the next snapshot. The library then stitches the graph snapshots to either form an interactive step by step run-through, or a gif animation of all snapshots. This puts the library at an advantage to others for our purposes because both outputs are useful. The interactive output can be included in the jupyter notebook, while the gif exists as a true animation of the optimization.\n",
    "\n",
    "Our implementation does not focus on efficiency. In particular we deliberately take extra steps in creating and merging nodes in order to produce more granularized snapshots of the process for the purposes of detailing and animating how the algorithm works. Below is an implementation of the algorithm. \n"
   ]
  },
  {
   "cell_type": "markdown",
   "metadata": {},
   "source": [
    "Import the required packages and instantiate the animation"
   ]
  },
  {
   "cell_type": "code",
   "execution_count": 9,
   "metadata": {},
   "outputs": [
    {
     "name": "stdout",
     "output_type": "stream",
     "text": [
      "Collecting https://github.com/mapio/GraphvizAnim/archive/0.2-alpha.zip\n",
      "  Downloading https://github.com/mapio/GraphvizAnim/archive/0.2-alpha.zip (120kB)\n",
      "  Requirement already satisfied (use --upgrade to upgrade): GraphvizAnim==0.1a0 from https://github.com/mapio/GraphvizAnim/archive/0.2-alpha.zip in c:\\users\\pheo\\anaconda3\\lib\\site-packages\n",
      "Building wheels for collected packages: GraphvizAnim\n",
      "  Running setup.py bdist_wheel for GraphvizAnim: started\n",
      "  Running setup.py bdist_wheel for GraphvizAnim: finished with status 'done'\n",
      "  Stored in directory: C:\\Users\\pheo\\AppData\\Local\\pip\\Cache\\wheels\\88\\69\\7d\\348281a66bdbebdf5d5a539f080a5bdca4e03547f00f3c2859\n",
      "Successfully built GraphvizAnim\n",
      "Requirement already satisfied: render in c:\\users\\pheo\\anaconda3\\lib\\site-packages\n",
      "Requirement already satisfied: pyyaml in c:\\users\\pheo\\anaconda3\\lib\\site-packages (from render)\n",
      "Requirement already satisfied: jinja2 in c:\\users\\pheo\\anaconda3\\lib\\site-packages (from render)\n",
      "Requirement already satisfied: MarkupSafe>=0.23 in c:\\users\\pheo\\anaconda3\\lib\\site-packages (from jinja2->render)\n"
     ]
    }
   ],
   "source": [
    "!pip install https://github.com/mapio/GraphvizAnim/archive/0.2-alpha.zip\n",
    "!pip install render\n",
    "from gvanim import Animation, render, gif\n",
    "from gvanim.jupyter import interactive\n",
    "ga = Animation()"
   ]
  },
  {
   "cell_type": "code",
   "execution_count": 10,
   "metadata": {},
   "outputs": [
    {
     "name": "stdout",
     "output_type": "stream",
     "text": [
      "left node: s is undefined\n",
      "left node: s added to nodeList\n",
      "right node: s is undefined\n",
      "right node: z added to nodeList\n",
      "operator: - with identifier x is undefined\n",
      "operator: - with identifier x added to nodeList\n",
      "assigning value: +4 to s\n",
      "left node: s already in nodeList\n",
      "right node: z already in nodeList\n",
      "operator: - with the same left and right nodes already exist, but has different identifier\n",
      "add operator: - with identifier: t to nodeList\n",
      "remove: -t and merge duplicates\n",
      "assigning value: -2 to q\n",
      "left node: x already in nodeList\n",
      "right node: q already in nodeList\n",
      "operator: + with identifier a is undefined\n",
      "operator: + with identifier a added to nodeList\n"
     ]
    }
   ],
   "source": [
    "mylist = [[\"x\", \"-\", \"s\", \"z\"], [\"s\", \"+\", \"4\"], [\"t\", \"-\", \"s\", \"z\"], [\"q\", \"-\", \"2\"], [\"a\", \"+\", \"x\", \"q\"]]\n",
    "\n",
    "nodeList = [] # list of different existing nodes\n",
    "nextNode = 0\n",
    "\n",
    "# create node object. \n",
    "class Node(object):\n",
    "     def __init__(self, label, refer, lnode, rnode, identifier):\n",
    "            self.label = label\n",
    "            self.refer = 0\n",
    "            self.lnode = lnode\n",
    "            self.rnode = rnode\n",
    "            self.identifier = identifier\n",
    "\n",
    "# get next free node\n",
    "def getNode():\n",
    "    global nextNode\n",
    "    nextNode += 1\n",
    "    return nextNode\n",
    "\n",
    "# check if leaf node already exist in nodeList\n",
    "def checkNode(newNode):\n",
    "    global nodeList\n",
    "    for i in range(0, len(nodeList)):\n",
    "        if nodeList[i].identifier == newNode:\n",
    "            return True\n",
    "    return False\n",
    "\n",
    "# check if node already exist in nodeList and have the same left and right child nodes\n",
    "def checkNode2(newNode, leftNode=None, rightNode=None):\n",
    "    global nodeList\n",
    "    for i in range(0, len(nodeList)): \n",
    "        if nodeList[i].label == newNode:\n",
    "            if nodeList[i].rnode == rightNode and nodeList[i].lnode == leftNode:\n",
    "                return True\n",
    "    return False\n",
    "\n",
    "# find node by lanel and return node\n",
    "def returnNode(newNode):\n",
    "    for i in range(0, len(nodeList)):\n",
    "        if nodeList[i].identifier == newNode or nodeList[i].label == newNode:\n",
    "            return nodeList[i]\n",
    "\n",
    "def returnNodeIndex(newNode):\n",
    "    for i in range(0, len(nodeList)):\n",
    "        if nodeList[i].identifier == newNode or nodeList[i].label == newNode:\n",
    "            return i\n",
    "\n",
    "# for every sub list in mylist\n",
    "for i in range(0, len( mylist )):\n",
    "    if len(mylist[i]) == 4: # input in form of x = y op Z\n",
    "        if not checkNode(mylist[i][2]): # if left leaf node is not in nodeList\n",
    "            print \"left node: \" + mylist[i][2] + \" is undefined\"\n",
    "            print \"left node: \" + mylist[i][2] + \" added to nodeList\"\n",
    "            leftNode = Node(mylist[i][2], nextNode, None, None, mylist[i][2]) # set node label, refer to self, no childs \n",
    "            nextNode = getNode() # get next node index\n",
    "            nodeList.append(leftNode) # add node to nodeList\n",
    "        else: # node already exist in nodeList\n",
    "            print \"left node: \" + str(mylist[i][2]) + \" already in nodeList\"\n",
    "            leftNode = returnNode(mylist[i][2]) # set current leftNode to exisiting\n",
    "            \n",
    "        if not checkNode(mylist[i][3]): \n",
    "            print \"right node: \" + mylist[i][2] + \" is undefined\"\n",
    "            print \"right node: \" + mylist[i][3] + \" added to nodeList\"\n",
    "            rightNode = Node(mylist[i][3], nextNode, None, None, mylist[i][3])\n",
    "            nextNode = getNode()\n",
    "            nodeList.append(rightNode)\n",
    "        else:\n",
    "            print \"right node: \" + str(mylist[i][3]) + \" already in nodeList\"\n",
    "            rightNode = returnNode(mylist[i][3])\n",
    "        \n",
    "        # check if there is an exsiting node that has the same operator connecting the same valued nodes\n",
    "        if not checkNode2(mylist[i][1], leftNode, rightNode): # no match found\n",
    "            print \"operator: \"+ str(mylist[i][1]) + \" with identifier \" + str(mylist[i][0]) + \" is undefined\"\n",
    "            print \"operator: \"+ str(mylist[i][1]) + \" with identifier \" + str(mylist[i][0]) + \" added to nodeList\"\n",
    "            op = Node(mylist[i][1], nextNode, leftNode, rightNode, mylist[i][0]) # create new node with left and right nodes\n",
    "            nextNode = getNode() \n",
    "            nodeList.append(op)\n",
    "            \n",
    "            if leftNode.lnode == None and leftNode.rnode == None and rightNode.lnode == None and rightNode.rnode == None:\n",
    "                ga.add_node(leftNode.label)\n",
    "                ga.highlight_node(leftNode.label)\n",
    "                ga.next_step()\n",
    "                ga.add_edge(op.label+op.identifier, leftNode.label)\n",
    "                ga.next_step()\n",
    "                ga.add_node(rightNode.label)\n",
    "                ga.highlight_node(rightNode.label)\n",
    "                ga.next_step()\n",
    "                ga.add_edge(op.label+op.identifier, rightNode.label)\n",
    "                ga.next_step()\n",
    "            else:\n",
    "                if leftNode.label == \"+\" or leftNode.label == \"-\":\n",
    "                    ga.add_edge(op.label+op.identifier, leftNode.label+leftNode.identifier)\n",
    "                    ga.next_step()\n",
    "                else:\n",
    "                    ga.add_edge(op.label+op.identifier, leftNode.label)\n",
    "                    ga.next_step()\n",
    "                    \n",
    "                if rightNode.label == \"+\" or rightNode.label == \"-\":\n",
    "                    ga.add_edge(op.label+op.identifier, rightNode.label+rightNode.identifier)\n",
    "                    ga.next_step()\n",
    "                else:\n",
    "                    ga.add_edge(op.label+op.identifier, rightNode.label)\n",
    "                    ga.next_step() \n",
    "            ga.add_node(op.label+op.identifier)\n",
    "            ga.highlight_node(op.label+op.identifier)\n",
    "            ga.label_node(op.label+op.identifier, op.label+op.identifier)\n",
    "            ga.next_step()\n",
    "            \n",
    "        else: # found an existing node with same operator\n",
    "            if returnNode(mylist[i][1]).identifier != mylist[i][0]: #identifiers not equal but left and right leaf the same\n",
    "                print \"operator: \" + str(mylist[i][1]) + \" with the same left and right nodes already exist, but has different identifier\"\n",
    "                temp = returnNode(mylist[i][1]) # the operation node we're checking against\n",
    "                temp2 = temp.refer # refer of temp\n",
    "\n",
    "                # check if refer is same as index (node might be referencing another node) \n",
    "                while temp2 != returnNodeIndex(temp.label):\n",
    "                    temp = nodeList[temp2] \n",
    "                    \n",
    "                print \"add operator: \" + str(mylist[i][1]) + \" with identifier: \"+ str(mylist[i][0]) + \" to nodeList\"\n",
    "                op = Node(mylist[i][1], temp.refer, leftNode, rightNode, mylist[i][0]) # set refer to duplicate node index in nodeList\n",
    "                nextNode = getNode() \n",
    "                nodeList.append(op)\n",
    "                \n",
    "                ga.add_node(leftNode.label)\n",
    "                ga.highlight_node(leftNode.label)\n",
    "                ga.label_node(leftNode.label, leftNode.label) \n",
    "                ga.add_node(rightNode.label)\n",
    "                ga.highlight_node(rightNode.label)\n",
    "                ga.label_node(rightNode.label, rightNode.label)\n",
    "                \n",
    "                ga.label_node(op.label+op.identifier, op.label+op.identifier)\n",
    "                if leftNode.lnode == None and leftNode.rnode == None and rightNode.lnode == None and rightNode.rnode == None:\n",
    "                    ga.add_edge(op.label+op.identifier, leftNode.label)\n",
    "                    ga.next_step()\n",
    "                    ga.add_edge(op.label+op.identifier, rightNode.label)\n",
    "                    ga.next_step()\n",
    "                else:\n",
    "                    ga.add_edge(op.label+op.identifier, leftNode.label+leftNode.identifier)\n",
    "                    ga.next_step()\n",
    "                    ga.add_edge(op.label+op.identifier, rightNode.label+rightNode.identifier)\n",
    "                    ga.next_step()\n",
    "\n",
    "                print \"remove: \" + str(mylist[i][1]) + op.identifier + \" and merge duplicates\"\n",
    "                ga.next_step()\n",
    "                ga.remove_edge(op.label+op.identifier, leftNode)\n",
    "                ga.next_step()\n",
    "                ga.remove_edge(op.label+op.identifier, rightNode)\n",
    "                ga.next_step()\n",
    "                ga.remove_node(op.label+op.identifier)\n",
    "                ga.next_step()\n",
    "                # merge duplicate nodes in graph\n",
    "                ga.label_node(returnNode(mylist[i][1]).label+returnNode(mylist[i][1]).identifier, returnNode(mylist[i][1]).label+ returnNode(mylist[i][1]).identifier+\", \"+op.label+op.identifier)\n",
    "                ga.next_step()\n",
    "\n",
    "            else:\n",
    "                print \"operator: \" + str(mylist[i][1]) + \" already in nodeList\"\n",
    "\n",
    "    if len(mylist[i]) == 3: # input in form of x = op y (assignments)\n",
    "        if checkNode2(mylist[i][0], None, None): # assigning value to existing variable\n",
    "            print \"assigning value: \" + mylist[i][1] + mylist[i][2] + \" to \" + mylist[i][0]\n",
    "            temp0 = returnNodeIndex(mylist[i][0])\n",
    "            temp3 = returnNode(mylist[i][0])\n",
    "            op = Node(mylist[i][1], temp0, None, None, mylist[i][2]) # point new assignment to value\n",
    "            ga.add_edge(temp3.identifier, op.label+op.identifier)\n",
    "            ga.next_step()\n",
    "        \n",
    "        elif not checkNode2(mylist[i][0], leftNode, None): # no match found\n",
    "            print \"assigning value: \" + mylist[i][1] + mylist[i][2] + \" to \" + mylist[i][0]\n",
    "            leftNode = Node(mylist[i][1], nextNode, None, None, mylist[i][2])\n",
    "            nextNode = getNode() # get next char\n",
    "            ga.add_node(leftNode.label+leftNode.identifier)\n",
    "            ga.highlight_node(leftNode.label+leftNode.identifier)\n",
    "            ga.label_node(leftNode.label+leftNode.identifier, leftNode.label+leftNode.identifier) \n",
    "            nodeList.append(leftNode) # add node to nodeList\n",
    "            ga.next_step() # animation next frame\n",
    "            \n",
    "            op = Node(mylist[i][0], nextNode, leftNode, None, mylist[i][0]) # create new node with assigned value\n",
    "            nextNode = getNode()\n",
    "            nodeList.append(op)\n",
    "            ga.add_node(op.label)\n",
    "            ga.highlight_node(op.label)\n",
    "            ga.label_node(op.label, op.label)\n",
    "            ga.next_step()\n",
    "            ga.add_edge(op.label, leftNode.label+leftNode.identifier)\n",
    "            ga.next_step()\n",
    "        else:\n",
    "            print \"operator: \" + str(mylist[i][1]) + \" already in nodeList\"\n",
    "        "
   ]
  },
  {
   "cell_type": "code",
   "execution_count": 11,
   "metadata": {},
   "outputs": [
    {
     "data": {
      "image/png": "[encoded data removed]",
      "text/plain": [
       "<IPython.core.display.Image object>"
      ]
     },
     "metadata": {},
     "output_type": "display_data"
    }
   ],
   "source": [
    "interactive( ga )    "
   ]
  },
  {
   "cell_type": "markdown",
   "metadata": {
    "collapsed": true
   },
   "source": [
    "Here we see the graph being generated. Steps 15-17 show precicely how the expression \"z - s\" is found to have occured before, and so the node and its connections are removed, and the identifier to which it is assigned (\"t\") is added as an additional identifier for \"x\"."
   ]
  },
  {
   "cell_type": "code",
   "execution_count": 12,
   "metadata": {},
   "outputs": [],
   "source": [
    "# this code generates a gif in the current directory\n",
    "\n",
    "graphs = ga.graphs()\n",
    "files = render(graphs, 'dag')\n",
    "gif(files, 'dag', 50)"
   ]
  },
  {
   "cell_type": "markdown",
   "metadata": {},
   "source": [
    "## References\n",
    "1. Kakde, O.G. Algorithms for Compiler Design. 2002. Chapter 10.6 \n",
    "2. Scott, M.L. Programming Language Pragmatics. 2009. Chapter 16 - Code Improvement\n",
    "3. Pfenning, F. Lecture Notes on Common Subexpression Elimination. 2015 \n",
    "4. GraphvizAnim. https://github.com/mapio/GraphvizAnim\n"
   ]
  }
 ],
 "metadata": {
  "kernelspec": {
   "display_name": "Python 2",
   "language": "python",
   "name": "python2"
  },
  "language_info": {
   "codemirror_mode": {
    "name": "ipython",
    "version": 2
   },
   "file_extension": ".py",
   "mimetype": "text/x-python",
   "name": "python",
   "nbconvert_exporter": "python",
   "pygments_lexer": "ipython2",
   "version": "2.7.13"
  },
  "widgets": {
   "state": {
    "39d800422c574f1da18bbbb059fab086": {
     "views": [
      {
       "cell_index": 5
      }
     ]
    }
   },
   "version": "1.2.0"
  }
 },
 "nbformat": 4,
 "nbformat_minor": 1
}
